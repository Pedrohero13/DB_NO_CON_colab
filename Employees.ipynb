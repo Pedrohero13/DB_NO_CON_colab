{
  "cells": [
    {
      "cell_type": "markdown",
      "metadata": {
        "id": "view-in-github",
        "colab_type": "text"
      },
      "source": [
        "<a href=\"https://colab.research.google.com/github/Pedrohero13/DB_NO_CON_colab/blob/main/Employees.ipynb\" target=\"_parent\"><img src=\"https://colab.research.google.com/assets/colab-badge.svg\" alt=\"Open In Colab\"/></a>"
      ]
    },
    {
      "cell_type": "markdown",
      "metadata": {
        "id": "hkXH9OkXw6OQ"
      },
      "source": [
        "Instalación de la librería streamlit"
      ]
    },
    {
      "cell_type": "code",
      "execution_count": 1,
      "metadata": {
        "colab": {
          "base_uri": "https://localhost:8080/"
        },
        "id": "Qb2PDc_BwtFU",
        "outputId": "8518a0b2-7621-4f31-bcfb-485d06777391"
      },
      "outputs": [
        {
          "output_type": "stream",
          "name": "stdout",
          "text": [
            "Requirement already satisfied: streamlit in /usr/local/lib/python3.7/dist-packages (1.7.0)\n",
            "Requirement already satisfied: tzlocal in /usr/local/lib/python3.7/dist-packages (from streamlit) (1.5.1)\n",
            "Requirement already satisfied: typing-extensions in /usr/local/lib/python3.7/dist-packages (from streamlit) (3.10.0.2)\n",
            "Requirement already satisfied: astor in /usr/local/lib/python3.7/dist-packages (from streamlit) (0.8.1)\n",
            "Requirement already satisfied: pympler>=0.9 in /usr/local/lib/python3.7/dist-packages (from streamlit) (1.0.1)\n",
            "Requirement already satisfied: packaging in /usr/local/lib/python3.7/dist-packages (from streamlit) (21.3)\n",
            "Requirement already satisfied: validators in /usr/local/lib/python3.7/dist-packages (from streamlit) (0.18.2)\n",
            "Requirement already satisfied: watchdog in /usr/local/lib/python3.7/dist-packages (from streamlit) (2.1.6)\n",
            "Requirement already satisfied: gitpython!=3.1.19 in /usr/local/lib/python3.7/dist-packages (from streamlit) (3.1.27)\n",
            "Requirement already satisfied: base58 in /usr/local/lib/python3.7/dist-packages (from streamlit) (2.1.1)\n",
            "Requirement already satisfied: attrs in /usr/local/lib/python3.7/dist-packages (from streamlit) (21.4.0)\n",
            "Requirement already satisfied: python-dateutil in /usr/local/lib/python3.7/dist-packages (from streamlit) (2.8.2)\n",
            "Requirement already satisfied: pyarrow in /usr/local/lib/python3.7/dist-packages (from streamlit) (6.0.1)\n",
            "Requirement already satisfied: importlib-metadata>=1.4 in /usr/local/lib/python3.7/dist-packages (from streamlit) (4.11.1)\n",
            "Requirement already satisfied: cachetools>=4.0 in /usr/local/lib/python3.7/dist-packages (from streamlit) (4.2.4)\n",
            "Requirement already satisfied: altair>=3.2.0 in /usr/local/lib/python3.7/dist-packages (from streamlit) (4.2.0)\n",
            "Requirement already satisfied: protobuf!=3.11,>=3.6.0 in /usr/local/lib/python3.7/dist-packages (from streamlit) (3.17.3)\n",
            "Requirement already satisfied: semver in /usr/local/lib/python3.7/dist-packages (from streamlit) (2.13.0)\n",
            "Requirement already satisfied: pydeck>=0.1.dev5 in /usr/local/lib/python3.7/dist-packages (from streamlit) (0.7.1)\n",
            "Requirement already satisfied: requests in /usr/local/lib/python3.7/dist-packages (from streamlit) (2.23.0)\n",
            "Requirement already satisfied: tornado>=5.0 in /usr/local/lib/python3.7/dist-packages (from streamlit) (5.1.1)\n",
            "Requirement already satisfied: toml in /usr/local/lib/python3.7/dist-packages (from streamlit) (0.10.2)\n",
            "Requirement already satisfied: numpy in /usr/local/lib/python3.7/dist-packages (from streamlit) (1.21.5)\n",
            "Requirement already satisfied: pillow>=6.2.0 in /usr/local/lib/python3.7/dist-packages (from streamlit) (7.1.2)\n",
            "Requirement already satisfied: click>=7.0 in /usr/local/lib/python3.7/dist-packages (from streamlit) (7.1.2)\n",
            "Requirement already satisfied: blinker in /usr/local/lib/python3.7/dist-packages (from streamlit) (1.4)\n",
            "Requirement already satisfied: pandas>=0.21.0 in /usr/local/lib/python3.7/dist-packages (from streamlit) (1.3.5)\n",
            "Requirement already satisfied: jinja2 in /usr/local/lib/python3.7/dist-packages (from altair>=3.2.0->streamlit) (2.11.3)\n",
            "Requirement already satisfied: entrypoints in /usr/local/lib/python3.7/dist-packages (from altair>=3.2.0->streamlit) (0.4)\n",
            "Requirement already satisfied: toolz in /usr/local/lib/python3.7/dist-packages (from altair>=3.2.0->streamlit) (0.11.2)\n",
            "Requirement already satisfied: jsonschema>=3.0 in /usr/local/lib/python3.7/dist-packages (from altair>=3.2.0->streamlit) (4.3.3)\n",
            "Requirement already satisfied: gitdb<5,>=4.0.1 in /usr/local/lib/python3.7/dist-packages (from gitpython!=3.1.19->streamlit) (4.0.9)\n",
            "Requirement already satisfied: smmap<6,>=3.0.1 in /usr/local/lib/python3.7/dist-packages (from gitdb<5,>=4.0.1->gitpython!=3.1.19->streamlit) (5.0.0)\n",
            "Requirement already satisfied: zipp>=0.5 in /usr/local/lib/python3.7/dist-packages (from importlib-metadata>=1.4->streamlit) (3.7.0)\n",
            "Requirement already satisfied: importlib-resources>=1.4.0 in /usr/local/lib/python3.7/dist-packages (from jsonschema>=3.0->altair>=3.2.0->streamlit) (5.4.0)\n",
            "Requirement already satisfied: pyrsistent!=0.17.0,!=0.17.1,!=0.17.2,>=0.14.0 in /usr/local/lib/python3.7/dist-packages (from jsonschema>=3.0->altair>=3.2.0->streamlit) (0.18.1)\n",
            "Requirement already satisfied: pytz>=2017.3 in /usr/local/lib/python3.7/dist-packages (from pandas>=0.21.0->streamlit) (2018.9)\n",
            "Requirement already satisfied: six>=1.9 in /usr/local/lib/python3.7/dist-packages (from protobuf!=3.11,>=3.6.0->streamlit) (1.15.0)\n",
            "Requirement already satisfied: ipywidgets>=7.0.0 in /usr/local/lib/python3.7/dist-packages (from pydeck>=0.1.dev5->streamlit) (7.6.5)\n",
            "Requirement already satisfied: ipykernel>=5.1.2 in /usr/local/lib/python3.7/dist-packages (from pydeck>=0.1.dev5->streamlit) (6.9.1)\n",
            "Requirement already satisfied: traitlets>=4.3.2 in /usr/local/lib/python3.7/dist-packages (from pydeck>=0.1.dev5->streamlit) (5.1.1)\n",
            "Requirement already satisfied: debugpy<2.0,>=1.0.0 in /usr/local/lib/python3.7/dist-packages (from ipykernel>=5.1.2->pydeck>=0.1.dev5->streamlit) (1.0.0)\n",
            "Requirement already satisfied: nest-asyncio in /usr/local/lib/python3.7/dist-packages (from ipykernel>=5.1.2->pydeck>=0.1.dev5->streamlit) (1.5.4)\n",
            "Requirement already satisfied: jupyter-client<8.0 in /usr/local/lib/python3.7/dist-packages (from ipykernel>=5.1.2->pydeck>=0.1.dev5->streamlit) (5.3.5)\n",
            "Requirement already satisfied: ipython>=7.23.1 in /usr/local/lib/python3.7/dist-packages (from ipykernel>=5.1.2->pydeck>=0.1.dev5->streamlit) (7.32.0)\n",
            "Requirement already satisfied: matplotlib-inline<0.2.0,>=0.1.0 in /usr/local/lib/python3.7/dist-packages (from ipykernel>=5.1.2->pydeck>=0.1.dev5->streamlit) (0.1.3)\n",
            "Requirement already satisfied: jedi>=0.16 in /usr/local/lib/python3.7/dist-packages (from ipython>=7.23.1->ipykernel>=5.1.2->pydeck>=0.1.dev5->streamlit) (0.18.1)\n",
            "Requirement already satisfied: prompt-toolkit!=3.0.0,!=3.0.1,<3.1.0,>=2.0.0 in /usr/local/lib/python3.7/dist-packages (from ipython>=7.23.1->ipykernel>=5.1.2->pydeck>=0.1.dev5->streamlit) (3.0.28)\n",
            "Requirement already satisfied: setuptools>=18.5 in /usr/local/lib/python3.7/dist-packages (from ipython>=7.23.1->ipykernel>=5.1.2->pydeck>=0.1.dev5->streamlit) (57.4.0)\n",
            "Requirement already satisfied: pexpect>4.3 in /usr/local/lib/python3.7/dist-packages (from ipython>=7.23.1->ipykernel>=5.1.2->pydeck>=0.1.dev5->streamlit) (4.8.0)\n",
            "Requirement already satisfied: decorator in /usr/local/lib/python3.7/dist-packages (from ipython>=7.23.1->ipykernel>=5.1.2->pydeck>=0.1.dev5->streamlit) (4.4.2)\n",
            "Requirement already satisfied: pickleshare in /usr/local/lib/python3.7/dist-packages (from ipython>=7.23.1->ipykernel>=5.1.2->pydeck>=0.1.dev5->streamlit) (0.7.5)\n",
            "Requirement already satisfied: pygments in /usr/local/lib/python3.7/dist-packages (from ipython>=7.23.1->ipykernel>=5.1.2->pydeck>=0.1.dev5->streamlit) (2.6.1)\n",
            "Requirement already satisfied: backcall in /usr/local/lib/python3.7/dist-packages (from ipython>=7.23.1->ipykernel>=5.1.2->pydeck>=0.1.dev5->streamlit) (0.2.0)\n",
            "Requirement already satisfied: nbformat>=4.2.0 in /usr/local/lib/python3.7/dist-packages (from ipywidgets>=7.0.0->pydeck>=0.1.dev5->streamlit) (5.1.3)\n",
            "Requirement already satisfied: widgetsnbextension~=3.5.0 in /usr/local/lib/python3.7/dist-packages (from ipywidgets>=7.0.0->pydeck>=0.1.dev5->streamlit) (3.5.2)\n",
            "Requirement already satisfied: jupyterlab-widgets>=1.0.0 in /usr/local/lib/python3.7/dist-packages (from ipywidgets>=7.0.0->pydeck>=0.1.dev5->streamlit) (1.0.2)\n",
            "Requirement already satisfied: ipython-genutils~=0.2.0 in /usr/local/lib/python3.7/dist-packages (from ipywidgets>=7.0.0->pydeck>=0.1.dev5->streamlit) (0.2.0)\n",
            "Requirement already satisfied: parso<0.9.0,>=0.8.0 in /usr/local/lib/python3.7/dist-packages (from jedi>=0.16->ipython>=7.23.1->ipykernel>=5.1.2->pydeck>=0.1.dev5->streamlit) (0.8.3)\n",
            "Requirement already satisfied: MarkupSafe>=0.23 in /usr/local/lib/python3.7/dist-packages (from jinja2->altair>=3.2.0->streamlit) (2.0.1)\n",
            "Requirement already satisfied: jupyter-core>=4.6.0 in /usr/local/lib/python3.7/dist-packages (from jupyter-client<8.0->ipykernel>=5.1.2->pydeck>=0.1.dev5->streamlit) (4.9.2)\n",
            "Requirement already satisfied: pyzmq>=13 in /usr/local/lib/python3.7/dist-packages (from jupyter-client<8.0->ipykernel>=5.1.2->pydeck>=0.1.dev5->streamlit) (22.3.0)\n",
            "Requirement already satisfied: ptyprocess>=0.5 in /usr/local/lib/python3.7/dist-packages (from pexpect>4.3->ipython>=7.23.1->ipykernel>=5.1.2->pydeck>=0.1.dev5->streamlit) (0.7.0)\n",
            "Requirement already satisfied: wcwidth in /usr/local/lib/python3.7/dist-packages (from prompt-toolkit!=3.0.0,!=3.0.1,<3.1.0,>=2.0.0->ipython>=7.23.1->ipykernel>=5.1.2->pydeck>=0.1.dev5->streamlit) (0.2.5)\n",
            "Requirement already satisfied: notebook>=4.4.1 in /usr/local/lib/python3.7/dist-packages (from widgetsnbextension~=3.5.0->ipywidgets>=7.0.0->pydeck>=0.1.dev5->streamlit) (5.3.1)\n",
            "Requirement already satisfied: nbconvert in /usr/local/lib/python3.7/dist-packages (from notebook>=4.4.1->widgetsnbextension~=3.5.0->ipywidgets>=7.0.0->pydeck>=0.1.dev5->streamlit) (5.6.1)\n",
            "Requirement already satisfied: Send2Trash in /usr/local/lib/python3.7/dist-packages (from notebook>=4.4.1->widgetsnbextension~=3.5.0->ipywidgets>=7.0.0->pydeck>=0.1.dev5->streamlit) (1.8.0)\n",
            "Requirement already satisfied: terminado>=0.8.1 in /usr/local/lib/python3.7/dist-packages (from notebook>=4.4.1->widgetsnbextension~=3.5.0->ipywidgets>=7.0.0->pydeck>=0.1.dev5->streamlit) (0.13.1)\n",
            "Requirement already satisfied: defusedxml in /usr/local/lib/python3.7/dist-packages (from nbconvert->notebook>=4.4.1->widgetsnbextension~=3.5.0->ipywidgets>=7.0.0->pydeck>=0.1.dev5->streamlit) (0.7.1)\n",
            "Requirement already satisfied: testpath in /usr/local/lib/python3.7/dist-packages (from nbconvert->notebook>=4.4.1->widgetsnbextension~=3.5.0->ipywidgets>=7.0.0->pydeck>=0.1.dev5->streamlit) (0.6.0)\n",
            "Requirement already satisfied: pandocfilters>=1.4.1 in /usr/local/lib/python3.7/dist-packages (from nbconvert->notebook>=4.4.1->widgetsnbextension~=3.5.0->ipywidgets>=7.0.0->pydeck>=0.1.dev5->streamlit) (1.5.0)\n",
            "Requirement already satisfied: mistune<2,>=0.8.1 in /usr/local/lib/python3.7/dist-packages (from nbconvert->notebook>=4.4.1->widgetsnbextension~=3.5.0->ipywidgets>=7.0.0->pydeck>=0.1.dev5->streamlit) (0.8.4)\n",
            "Requirement already satisfied: bleach in /usr/local/lib/python3.7/dist-packages (from nbconvert->notebook>=4.4.1->widgetsnbextension~=3.5.0->ipywidgets>=7.0.0->pydeck>=0.1.dev5->streamlit) (4.1.0)\n",
            "Requirement already satisfied: webencodings in /usr/local/lib/python3.7/dist-packages (from bleach->nbconvert->notebook>=4.4.1->widgetsnbextension~=3.5.0->ipywidgets>=7.0.0->pydeck>=0.1.dev5->streamlit) (0.5.1)\n",
            "Requirement already satisfied: pyparsing!=3.0.5,>=2.0.2 in /usr/local/lib/python3.7/dist-packages (from packaging->streamlit) (3.0.7)\n",
            "Requirement already satisfied: certifi>=2017.4.17 in /usr/local/lib/python3.7/dist-packages (from requests->streamlit) (2021.10.8)\n",
            "Requirement already satisfied: idna<3,>=2.5 in /usr/local/lib/python3.7/dist-packages (from requests->streamlit) (2.10)\n",
            "Requirement already satisfied: chardet<4,>=3.0.2 in /usr/local/lib/python3.7/dist-packages (from requests->streamlit) (3.0.4)\n",
            "Requirement already satisfied: urllib3!=1.25.0,!=1.25.1,<1.26,>=1.21.1 in /usr/local/lib/python3.7/dist-packages (from requests->streamlit) (1.24.3)\n"
          ]
        }
      ],
      "source": [
        "!pip install streamlit\n"
      ]
    },
    {
      "cell_type": "markdown",
      "metadata": {
        "id": "NnlmwdqnxBTs"
      },
      "source": [
        "Vamos a cargar una máquina virtual que tenga instalado Ngrok"
      ]
    },
    {
      "cell_type": "code",
      "execution_count": 2,
      "metadata": {
        "colab": {
          "base_uri": "https://localhost:8080/"
        },
        "id": "jyh6wOfkxDAk",
        "outputId": "5853013d-880e-41fc-a952-763e526f5ee0"
      },
      "outputs": [
        {
          "output_type": "stream",
          "name": "stdout",
          "text": [
            "--2022-03-02 22:24:39--  https://bin.equinox.io/c/4VmDzA7iaHb/ngrok-stable-linux-amd64.zip\n",
            "Resolving bin.equinox.io (bin.equinox.io)... 54.237.133.81, 54.161.241.46, 18.205.222.128, ...\n",
            "Connecting to bin.equinox.io (bin.equinox.io)|54.237.133.81|:443... connected.\n",
            "HTTP request sent, awaiting response... 200 OK\n",
            "Length: 13832437 (13M) [application/octet-stream]\n",
            "Saving to: ‘ngrok-stable-linux-amd64.zip’\n",
            "\n",
            "ngrok-stable-linux- 100%[===================>]  13.19M  2.80MB/s    in 11s     \n",
            "\n",
            "2022-03-02 22:24:51 (1.17 MB/s) - ‘ngrok-stable-linux-amd64.zip’ saved [13832437/13832437]\n",
            "\n"
          ]
        }
      ],
      "source": [
        "!wget https://bin.equinox.io/c/4VmDzA7iaHb/ngrok-stable-linux-amd64.zip"
      ]
    },
    {
      "cell_type": "markdown",
      "metadata": {
        "id": "yJmWRf0YxN98"
      },
      "source": [
        "Ahora cargaremos esta máquina virtual en nuestro archivo de Google Colab"
      ]
    },
    {
      "cell_type": "code",
      "execution_count": 3,
      "metadata": {
        "colab": {
          "base_uri": "https://localhost:8080/"
        },
        "id": "uU5PfueMxQmD",
        "outputId": "3cbedb96-f6e7-4f29-fb77-4df3291736b3"
      },
      "outputs": [
        {
          "output_type": "stream",
          "name": "stdout",
          "text": [
            "Archive:  ngrok-stable-linux-amd64.zip\n",
            "  inflating: ngrok                   \n"
          ]
        }
      ],
      "source": [
        "!unzip ngrok-stable-linux-amd64.zip"
      ]
    },
    {
      "cell_type": "markdown",
      "metadata": {
        "id": "aNjaVV8bxUpw"
      },
      "source": [
        "Add token ngrok to ngrok suite"
      ]
    },
    {
      "cell_type": "code",
      "execution_count": 79,
      "metadata": {
        "colab": {
          "base_uri": "https://localhost:8080/"
        },
        "id": "5pAvk85XxVvw",
        "outputId": "d1613fde-7a64-4e80-d4ac-c39b3566697c"
      },
      "outputs": [
        {
          "output_type": "stream",
          "name": "stdout",
          "text": [
            "Authtoken saved to configuration file: /root/.ngrok2/ngrok.yml\n"
          ]
        }
      ],
      "source": [
        "get_ipython().system_raw('./ngrok authtoken 24qeTD0luOCmIfQYHBvCGHHddbz_5CF1HTN82FtBvpFrd8yhf')"
      ]
    },
    {
      "cell_type": "markdown",
      "metadata": {
        "id": "HoS1MENjxeh8"
      },
      "source": [
        "Posteriormente le indicaremos a Ngrok que estará utilizando el puerto 8501 para visualizar nuestra aplicación"
      ]
    },
    {
      "cell_type": "code",
      "execution_count": 102,
      "metadata": {
        "id": "QzUDGO0LxfYn"
      },
      "outputs": [],
      "source": [
        "get_ipython().system_raw('./ngrok http 8501 &')"
      ]
    },
    {
      "cell_type": "markdown",
      "metadata": {
        "id": "TSWFI8ujxijz"
      },
      "source": [
        "Una vez inicializado el puerto, ahora vamos a crear el tunel para que pueda generarse un enlace que nos permita visualizar nuestra aplicación"
      ]
    },
    {
      "cell_type": "code",
      "execution_count": 103,
      "metadata": {
        "colab": {
          "base_uri": "https://localhost:8080/"
        },
        "id": "TdeTVdTPxk5F",
        "outputId": "73eff6ed-d43f-4399-f118-9e46b6c0b980"
      },
      "outputs": [
        {
          "output_type": "stream",
          "name": "stdout",
          "text": [
            "Execute the next cell and the go to the following URL: http://988c-35-221-208-120.ngrok.io\n"
          ]
        }
      ],
      "source": [
        "!curl -s http://localhost:4040/api/tunnels | python3 -c \\\n",
        "    'import sys, json; print(\"Execute the next cell and the go to the following URL: \" +json.load(sys.stdin)[\"tunnels\"][0][\"public_url\"])'"
      ]
    },
    {
      "cell_type": "markdown",
      "metadata": {
        "id": "06q1kgeTxs52"
      },
      "source": [
        "Una vez que ejecutaron la instrucción anterior, verán que aparece un URL que es el que vamos a dar clic para visualizar nuestra aplicación, pero primero tenemos que ejecutar nuestra aplicación"
      ]
    },
    {
      "cell_type": "markdown",
      "metadata": {
        "id": "m9w0qZLgxx1X"
      },
      "source": [
        "# **RETO: Análisis de deserción de empleados**"
      ]
    },
    {
      "cell_type": "markdown",
      "metadata": {
        "id": "T7SUEyW1x6mg"
      },
      "source": [
        "Ahora creamos nuestra aplicacion, para guardar el archivo nos aseguramos de incluir la sentencia: %%writefile employees.py"
      ]
    },
    {
      "cell_type": "code",
      "execution_count": 154,
      "metadata": {
        "colab": {
          "base_uri": "https://localhost:8080/"
        },
        "id": "tg3gFnHQxvsO",
        "outputId": "4a5353fe-cb08-41f1-c1d1-393571aabcc8"
      },
      "outputs": [
        {
          "output_type": "stream",
          "name": "stdout",
          "text": [
            "Overwriting employees.py\n"
          ]
        }
      ],
      "source": [
        "%%writefile employees.py\n",
        "import pandas as pd\n",
        "import numpy as np\n",
        "import streamlit as st\n",
        "import codecs\n",
        "import matplotlib.pyplot as plt\n",
        "import re\n",
        "\n",
        "st.title('Empleados')\n",
        "st.header (\"Análisis de deserción de empleados\")\n",
        "\n",
        "st.write (\"\"\"\n",
        "Esta aplicación analiza la deserción de empleados de una empresa\n",
        "\"\"\")\n",
        "\n",
        "\n",
        "sidebar = st.sidebar\n",
        "sidebar.title(\"MENU\")\n",
        "\n",
        "\n",
        "DATA_URL = ('/content/employees.csv')\n",
        "\n",
        "@st.cache\n",
        "def load_data(nrows):\n",
        "    data = pd.read_csv(DATA_URL, nrows=nrows, encoding_errors='ignore')\n",
        "    return data\n",
        "data = load_data(1000) #cache para las funciones \n",
        "#Cargar datos si se selecciona en el checkbox\n",
        "agree = sidebar.checkbox(\"¿Quieres mostrar todos los datos? \",key =\"Dataframe\")\n",
        "if agree:\n",
        "  data_load_state = st.text('Cargando...')\n",
        "  data = load_data(1000)\n",
        "  \n",
        "  data_load_state.text(\"Cargado! (usando st.cache)\")\n",
        "  st.dataframe(data)\n",
        "  \n",
        "sidebar.markdown(\"___\")\n",
        "#filtrar por employees_ID hometown o unit\n",
        "@st.cache\n",
        "def load_data_byEmployeesID(id):\n",
        "  \n",
        "  filtered_data_byname = data[data['Employee_ID'].str.contains(id,flags=re.IGNORECASE)]\n",
        "  \n",
        "  return filtered_data_byname\n",
        "\n",
        "@st.cache\n",
        "def load_data_byHometown(hometown):\n",
        "  \n",
        "  filtered_data_byname = data[data['Hometown'].str.contains(hometown,flags=re.IGNORECASE)]\n",
        "  \n",
        "  return filtered_data_byname\n",
        "\n",
        "@st.cache\n",
        "def load_data_byUnit(unit):\n",
        "  \n",
        "  filtered_data_byname = data[data['Unit'].str.contains(unit, flags=re.IGNORECASE)]\n",
        "  return filtered_data_byname\n",
        "\n",
        "inputUser = st.sidebar.text_input('Ingrese el id o ciudad o el trabajo: ')\n",
        "btnFilteredID = sidebar.button('Buscar por ID')\n",
        "btnFilteredHometown = sidebar.button('Buscar por Ciudad natal')\n",
        "btnFilteredUnit = sidebar.button('Buscar por Trabajo')\n",
        "\n",
        "if (btnFilteredID):\n",
        "  st.write (\"ID buscado: \"+ inputUser)\n",
        "  filterbyname = load_data_byEmployeesID(inputUser)\n",
        "  count_row = filterbyname.shape[0]\n",
        "  st.write(f'Total: {count_row}')\n",
        "\n",
        "  st.dataframe(filterbyname)\n",
        "\n",
        "if (btnFilteredHometown):\n",
        "  st.write (\"Ciudad buscada: \"+ inputUser)\n",
        "  filterbyname = load_data_byHometown(inputUser)\n",
        "  count_row = filterbyname.shape[0]\n",
        "  st.write(f'Total: {count_row}')\n",
        "\n",
        "  st.dataframe(filterbyname)\n",
        "\n",
        "if (btnFilteredUnit):\n",
        "  st.write (\"Trabajo buscado: \"+ inputUser)\n",
        "  filterbyname = load_data_byUnit(inputUser)\n",
        "  count_row = filterbyname.shape[0]\n",
        "  st.write(f'Total: {count_row}')\n",
        "\n",
        "  st.dataframe(filterbyname)\n",
        "\n",
        "sidebar.markdown(\"___\")\n",
        "\n",
        "#Filtrar por nivel educatico por selectBox\n",
        "@st.cache\n",
        "def load_data_bydire(level):\n",
        "  filtered_data_byLevel = data[data['Education_Level'] == level]\n",
        "  return filtered_data_byLevel\n",
        "\n",
        "selected = sidebar.selectbox(\"Selecciona el Nivel educativo\", data['Education_Level'].unique())\n",
        "btnFilterByLevel = sidebar.button('Filtrar por Nivel educativo')\n",
        "\n",
        "if (btnFilterByLevel): \n",
        "  st.write(\"Empleados con nivel educativo \"+ str(selected))\n",
        "  filterbylevel = load_data_bydire(selected)\n",
        "  count_row = filterbylevel.shape[0]\n",
        "  st.write(f'Total: {count_row}')\n",
        "\n",
        "  st.dataframe(filterbylevel)\n",
        "sidebar.markdown(\"___\")\n",
        "#Filtrar por Ciudad natal por selectBox\n",
        "@st.cache\n",
        "def load_data_byhome(home):\n",
        "  filtered_data_byHome = data[data['Hometown'] == home]\n",
        "  return filtered_data_byHome\n",
        "\n",
        "selectedHome = sidebar.selectbox(\"Selecciona la ciudad natal\", data['Hometown'].unique())\n",
        "btnFilterByHometown = sidebar.button('Filtrar por Ciudad')\n",
        "\n",
        "if (btnFilterByHometown): \n",
        "  st.write(\"Empleados con Ciudad natal \"+ str(selectedHome))\n",
        "  filterbyhome = load_data_byhome(selectedHome)\n",
        "  count_row = filterbyhome.shape[0]\n",
        "  st.write(f'Total: {count_row}')\n",
        "\n",
        "  st.dataframe(filterbyhome)\n",
        "sidebar.markdown(\"___\")\n",
        "#Filtrar por Tipo de trabajo por selectBox\n",
        "@st.cache\n",
        "def load_data_byUnit(unit):\n",
        "  filtered_data_byunit = data[data['Unit'] == unit]\n",
        "  return filtered_data_byunit\n",
        "\n",
        "selectedUnit = sidebar.selectbox(\"Selecciona el trabajo\", data['Unit'].unique())\n",
        "btnFilterByUnit = sidebar.button('Filtrar por Trabajo')\n",
        "\n",
        "if (btnFilterByUnit): \n",
        "  st.write(\"Empleados con el trabajo \"+ str(selectedUnit))\n",
        "  filterbyunit = load_data_byUnit(selectedUnit)\n",
        "  count_row = filterbyunit.shape[0]\n",
        "  st.write(f'Total: {count_row}')\n",
        "\n",
        "  st.dataframe(filterbyunit)\n",
        "sidebar.markdown(\"___\")\n",
        "\n",
        "sidebar.subheader(\"Graficas\")\n",
        "# histograma edades \n",
        "agreeHis = sidebar.checkbox(\"Histograma de edades \",key = \"edades\")\n",
        "if agreeHis:\n",
        "  fig, ax = plt.subplots()\n",
        "\n",
        "  ax.hist(data['Age'], rwidth=0.85)\n",
        "  ax.set_xlabel(\"Edad\")\n",
        "  ax.set_ylabel(\"Numero de empleados\")\n",
        "  st.header(\"Histograma de empleados por edad\")\n",
        "\n",
        "  st.pyplot(fig)\n",
        "\n",
        "  st.markdown(\"___\")\n",
        "\n",
        "# frecuencia  \n",
        "agreeFrecuency = sidebar.checkbox(\"Frecuencia por trabajo \",key = \"frecuencia\")\n",
        "if agreeFrecuency:\n",
        "  fig, ax = plt.subplots()\n",
        "\n",
        "  ax.hist(data['Unit'], rwidth=0.85)\n",
        "  ax.set_xlabel(\"Trabajo\")\n",
        "  ax.set_ylabel(\"Numero de empleados\")\n",
        "  st.header(\"Frecuencia de Empleados por Trabajo \")\n",
        "  plt.setp(ax.get_xticklabels(), rotation=45, ha='right')\n",
        "  st.pyplot(fig)\n",
        "  \n",
        "  st.markdown(\"___\")\n",
        "\n",
        "# indice de desercion por ciudad\n",
        "agreeDesercion = sidebar.checkbox(\"Indice de deserción por ciudad \",key = \"desercion\")\n",
        "if agreeDesercion:\n",
        "  fig, ax = plt.subplots()\n",
        "\n",
        "  y_pos = data['Attrition_rate']\n",
        "  x_pos = data['Hometown']\n",
        "\n",
        "  ax.bar(x_pos, y_pos)\n",
        "  ax.set_ylabel(\"Desercion\")\n",
        "  ax.set_xlabel(\"Ciudad natal\")\n",
        "  ax.set_title('¿Cuantos empleados desertaron por ciudad?')\n",
        "\n",
        "  st.header(\"Indice de deserción por ciudad\")\n",
        "\n",
        "  st.pyplot(fig)\n",
        "\n",
        "  st.markdown(\"___\")\n",
        "\n",
        "# indice de desercion por edad\n",
        "\n",
        "agreeEdad = sidebar.checkbox(\"Indice de deserción por edad \", key = \"desEdad\")\n",
        "if agreeEdad:\n",
        "  fig, ax = plt.subplots()\n",
        "\n",
        "  y_pos = data['Attrition_rate']\n",
        "  x_pos = data['Age']\n",
        "\n",
        "  ax.barh(x_pos, y_pos)\n",
        "  ax.set_xlabel(\"Desercion\")\n",
        "  ax.set_ylabel(\"Edad\")\n",
        "  ax.set_title('¿Cuantos empleados desertaron por edad?')\n",
        "\n",
        "  st.header(\"Indice de deserción por edad\")\n",
        "\n",
        "  st.pyplot(fig)\n",
        "\n",
        "  st.markdown(\"___\")\n",
        "\n",
        "# indice de desercion por tiempo de servicio\n",
        "\n",
        "agreeService = sidebar.checkbox(\"Indice de deserción por Tiempo de servicio \",key = \"service\")\n",
        "if agreeService:\n",
        "  fig, ax = plt.subplots()\n",
        "\n",
        "  y_pos = data['Attrition_rate']\n",
        "  x_pos = data['Time_of_service']\n",
        "\n",
        "  ax.bar(x_pos, y_pos)\n",
        "  ax.set_ylabel(\"Desercion\")\n",
        "  ax.set_xlabel(\"Tiempo de servicio\")\n",
        "  ax.set_title('¿Cuantos empleados desertaron por tiempo de servicio?')\n",
        "\n",
        "  st.header(\"Indice de deserción por tiempo de servicio\")\n",
        "\n",
        "  st.pyplot(fig)\n",
        "\n",
        "  st.markdown(\"___\")\n",
        "\n",
        "\n",
        "\n",
        "\n",
        "\n",
        "\n",
        "\n"
      ]
    },
    {
      "cell_type": "markdown",
      "metadata": {
        "id": "UfAx97dBzIp-"
      },
      "source": [
        "Una vez cargado y ejecutado el archivo ahora vamos a proceder a ejecutarlo con el comando streamlit para que se visualice el contenido del mismo."
      ]
    },
    {
      "cell_type": "code",
      "source": [
        "get_ipython().system_raw('./ngrok http 8501 &')"
      ],
      "metadata": {
        "id": "Xan9UB8GSYJ7"
      },
      "execution_count": 155,
      "outputs": []
    },
    {
      "cell_type": "code",
      "source": [
        "!curl -s http://localhost:4040/api/tunnels | python3 -c \\\n",
        "    'import sys, json; print(\"Execute the next cell and the go to the following URL: \" +json.load(sys.stdin)[\"tunnels\"][0][\"public_url\"])'"
      ],
      "metadata": {
        "colab": {
          "base_uri": "https://localhost:8080/"
        },
        "id": "mlR9VjTMScg8",
        "outputId": "7f82b966-574f-4053-fd67-b1163b3a82b3"
      },
      "execution_count": 156,
      "outputs": [
        {
          "output_type": "stream",
          "name": "stdout",
          "text": [
            "Execute the next cell and the go to the following URL: https://2334-35-221-208-120.ngrok.io\n"
          ]
        }
      ]
    },
    {
      "cell_type": "code",
      "execution_count": null,
      "metadata": {
        "colab": {
          "base_uri": "https://localhost:8080/"
        },
        "id": "5HE_xcFvzHbh",
        "outputId": "a0635bf0-529d-4507-8f89-ee42874506b6"
      },
      "outputs": [
        {
          "output_type": "stream",
          "name": "stdout",
          "text": [
            "2022-03-03 01:42:17.187 INFO    numexpr.utils: NumExpr defaulting to 2 threads.\n",
            "\u001b[0m\n",
            "\u001b[34m\u001b[1m  You can now view your Streamlit app in your browser.\u001b[0m\n",
            "\u001b[0m\n",
            "\u001b[34m  Network URL: \u001b[0m\u001b[1mhttp://172.28.0.2:8501\u001b[0m\n",
            "\u001b[34m  External URL: \u001b[0m\u001b[1mhttp://35.221.208.120:8501\u001b[0m\n",
            "\u001b[0m\n"
          ]
        }
      ],
      "source": [
        "!streamlit run /content/employees.py"
      ]
    }
  ],
  "metadata": {
    "colab": {
      "collapsed_sections": [],
      "name": "Employees.ipynb",
      "provenance": [],
      "authorship_tag": "ABX9TyPRrNsOaNw4XZ/vxx0eEcNC",
      "include_colab_link": true
    },
    "kernelspec": {
      "display_name": "Python 3",
      "name": "python3"
    },
    "language_info": {
      "name": "python"
    }
  },
  "nbformat": 4,
  "nbformat_minor": 0
}